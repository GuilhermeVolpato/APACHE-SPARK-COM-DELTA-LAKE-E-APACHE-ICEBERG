{
 "cells": [
  {
   "cell_type": "code",
   "execution_count": 32,
   "id": "93eae10a-ce14-4b4e-ab7d-414952005e28",
   "metadata": {},
   "outputs": [],
   "source": [
    "from pyspark.sql.types import StructType,StructField, StringType, IntegerType \n",
    "from pyspark.sql import SparkSession"
   ]
  },
  {
   "cell_type": "code",
   "execution_count": 33,
   "id": "463436be-a0a3-4b3b-8694-e1e13875cff4",
   "metadata": {},
   "outputs": [],
   "source": [
    "spark = ( \n",
    " SparkSession\n",
    " .builder\n",
    " .master(\"local[*]\")\n",
    " .appName('teste')\n",
    " .getOrCreate()\n",
    ")"
   ]
  },
  {
   "cell_type": "code",
   "execution_count": 27,
   "id": "01519467-81f6-4531-9af5-c523423afa71",
   "metadata": {},
   "outputs": [],
   "source": [
    "data = [ \n",
    " (\"James\",\"\",\"Smith\",\"36636\",\"M\",3000),\n",
    " (\"Michael\",\"Rose\",\"\",\"40288\",\"M\",4000),\n",
    " (\"Robert\",\"\",\"Williams\",\"42114\",\"M\",4000),\n",
    " (\"Maria\",\"Anne\",\"Jones\",\"39192\",\"F\",4000),\n",
    " (\"Jen\",\"Mary\",\"Brown\",\"\",\"F\",-1) \n",
    "]"
   ]
  },
  {
   "cell_type": "code",
   "execution_count": 28,
   "id": "95315341-5963-4a87-b733-3ffbceca2a7e",
   "metadata": {},
   "outputs": [],
   "source": [
    "schema = (\n",
    "    StructType([\n",
    "        StructField(\"firstname\", StringType(), True),\n",
    "        StructField(\"middlename\", StringType(), True),\n",
    "        StructField(\"lastname\", StringType(), True),\n",
    "        StructField(\"id\", StringType(), True),\n",
    "        StructField(\"gender\", StringType(), True),\n",
    "        StructField(\"salary\", IntegerType(), True)\n",
    "    ])\n",
    ")"
   ]
  },
  {
   "cell_type": "code",
   "execution_count": 29,
   "id": "1a1a07cf-d893-46c5-9a82-bf0ea3124ae7",
   "metadata": {},
   "outputs": [],
   "source": [
    "df = spark.createDataFrame(data=data,schema=schema)"
   ]
  },
  {
   "cell_type": "code",
   "execution_count": 30,
   "id": "2dbb5e87-1fde-4b3a-922c-0b05b243dfbd",
   "metadata": {},
   "outputs": [
    {
     "name": "stdout",
     "output_type": "stream",
     "text": [
      "root\n",
      " |-- firstname: string (nullable = true)\n",
      " |-- middlename: string (nullable = true)\n",
      " |-- lastname: string (nullable = true)\n",
      " |-- id: string (nullable = true)\n",
      " |-- gender: string (nullable = true)\n",
      " |-- salary: integer (nullable = true)\n",
      "\n"
     ]
    }
   ],
   "source": [
    "df.printSchema()"
   ]
  },
  {
   "cell_type": "code",
   "execution_count": 31,
   "id": "bf8eb776-bed1-41cc-844f-6f4bd2e4f0eb",
   "metadata": {},
   "outputs": [
    {
     "ename": "SyntaxError",
     "evalue": "invalid syntax. Perhaps you forgot a comma? (1411950569.py, line 1)",
     "output_type": "error",
     "traceback": [
      "\u001b[1;36m  Cell \u001b[1;32mIn[31], line 1\u001b[1;36m\u001b[0m\n\u001b[1;33m    df.show(truncate=False ESTÁ COM ERRO VERIFICAR DEPOIS\u001b[0m\n\u001b[1;37m                     ^\u001b[0m\n\u001b[1;31mSyntaxError\u001b[0m\u001b[1;31m:\u001b[0m invalid syntax. Perhaps you forgot a comma?\n"
     ]
    }
   ],
   "source": [
    "df.show(truncate=False ESTÁ COM ERRO VERIFICAR DEPOIS"
   ]
  },
  {
   "cell_type": "code",
   "execution_count": null,
   "id": "843be177-6f58-45ec-8e72-3d0cce975c33",
   "metadata": {},
   "outputs": [],
   "source": []
  }
 ],
 "metadata": {
  "kernelspec": {
   "display_name": "Python 3 (ipykernel)",
   "language": "python",
   "name": "python3"
  },
  "language_info": {
   "codemirror_mode": {
    "name": "ipython",
    "version": 3
   },
   "file_extension": ".py",
   "mimetype": "text/x-python",
   "name": "python",
   "nbconvert_exporter": "python",
   "pygments_lexer": "ipython3",
   "version": "3.12.3"
  }
 },
 "nbformat": 4,
 "nbformat_minor": 5
}
