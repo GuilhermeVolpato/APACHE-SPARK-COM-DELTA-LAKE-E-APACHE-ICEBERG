{
 "cells": [
  {
   "cell_type": "code",
   "execution_count": 2,
   "id": "7f6aad3e-1626-47c4-b79c-e36cae685069",
   "metadata": {},
   "outputs": [],
   "source": [
    "from pyspark.sql import SparkSession\n",
    "from pyspark.sql import functions as F"
   ]
  },
  {
   "cell_type": "code",
   "execution_count": 4,
   "id": "7dd705c1-53b3-46d2-ab03-d8a116811e3d",
   "metadata": {},
   "outputs": [],
   "source": [
    "spark = ( \n",
    " SparkSession\n",
    " .builder\n",
    "    .master(\"local[*]\")\n",
    " .appName('spark_dataframe_api')\n",
    " .getOrCreate()\n",
    ")\n"
   ]
  },
  {
   "cell_type": "code",
   "execution_count": 6,
   "id": "2f7f8242-4390-4665-8043-4b14d21cc543",
   "metadata": {},
   "outputs": [],
   "source": [
    "df = (\n",
    "    spark\n",
    "    .read\n",
    "    .option('delimiter', ';')\n",
    "    .option('header', 'true')\n",
    "    .option('inferSchema', 'true')\n",
    "    .option('enconding', 'ISO-8859-1')\n",
    "    .csv('./dados/precos-gasolina-etanol-10.csv')\n",
    ")\n"
   ]
  },
  {
   "cell_type": "code",
   "execution_count": 9,
   "id": "7e64553d-e4f5-41ce-8e10-0a03097522c8",
   "metadata": {
    "scrolled": true
   },
   "outputs": [
    {
     "name": "stdout",
     "output_type": "stream",
     "text": [
      "root\n",
      " |-- Regiao - Sigla: string (nullable = true)\n",
      " |-- Estado - Sigla: string (nullable = true)\n",
      " |-- Municipio: string (nullable = true)\n",
      " |-- Revenda: string (nullable = true)\n",
      " |-- CNPJ da Revenda: string (nullable = true)\n",
      " |-- Nome da Rua: string (nullable = true)\n",
      " |-- Numero Rua: string (nullable = true)\n",
      " |-- Complemento: string (nullable = true)\n",
      " |-- Bairro: string (nullable = true)\n",
      " |-- Cep: string (nullable = true)\n",
      " |-- Produto: string (nullable = true)\n",
      " |-- Data da Coleta: string (nullable = true)\n",
      " |-- Valor de Venda: string (nullable = true)\n",
      " |-- Valor de Compra: string (nullable = true)\n",
      " |-- Unidade de Medida: string (nullable = true)\n",
      " |-- Bandeira: string (nullable = true)\n",
      "\n"
     ]
    }
   ],
   "source": [
    "df.printSchema()\n"
   ]
  },
  {
   "cell_type": "code",
   "execution_count": 18,
   "id": "9d581d44-a48d-468e-b825-4f47ec35dfd0",
   "metadata": {},
   "outputs": [
    {
     "name": "stdout",
     "output_type": "stream",
     "text": [
      "+--------------+-------+--------------+-----------------+\n",
      "|Estado - Sigla|Produto|Valor de Venda|Unidade de Medida|\n",
      "+--------------+-------+--------------+-----------------+\n",
      "+--------------+-------+--------------+-----------------+\n",
      "\n"
     ]
    }
   ],
   "source": [
    "(\n",
    "    df_precos\n",
    "    .where(\n",
    "        F.col('Valor de Compra').isNotNull()\n",
    "    )\n",
    "    .show()\n",
    ")"
   ]
  },
  {
   "cell_type": "code",
   "execution_count": 17,
   "id": "20088731-8a36-407c-8232-f9105513cba5",
   "metadata": {},
   "outputs": [
    {
     "name": "stdout",
     "output_type": "stream",
     "text": [
      "+--------------+------------------+--------------+-----------------+\n",
      "|Estado - Sigla|           Produto|Valor de Venda|Unidade de Medida|\n",
      "+--------------+------------------+--------------+-----------------+\n",
      "|            AL|          GASOLINA|          6.08|       R$ / litro|\n",
      "|            AL|GASOLINA ADITIVADA|          6.08|       R$ / litro|\n",
      "|            AL|            ETANOL|          4.78|       R$ / litro|\n",
      "|            AL|          GASOLINA|          5.79|       R$ / litro|\n",
      "|            AL|            ETANOL|          4.29|       R$ / litro|\n",
      "+--------------+------------------+--------------+-----------------+\n",
      "only showing top 5 rows\n",
      "\n"
     ]
    }
   ],
   "source": [
    "df_precos.show(5)"
   ]
  },
  {
   "cell_type": "code",
   "execution_count": 24,
   "id": "a8c1398a-42c8-4662-ba20-58636f77be9e",
   "metadata": {},
   "outputs": [],
   "source": [
    "df_precos = (\n",
    "    df\n",
    "    .select('Estado - Sigla', 'Produto', 'Valor de Venda', 'Unidade de Medida')\n",
    "    .withColumn(\n",
    "        \"Valor de Venda\",\n",
    "        F.regexp_replace(F.col(\"Valor de Venda\"), \",\", \".\")\n",
    "        .cast(\"float\")\n",
    "    )\n",
    ")"
   ]
  },
  {
   "cell_type": "code",
   "execution_count": 25,
   "id": "2e57ac06-7d99-4c80-811d-ad16ff34caad",
   "metadata": {},
   "outputs": [],
   "source": [
    "df_precos_analise = (\n",
    "    df_precos\n",
    "    .groupBy(\n",
    "        F.col('Estado - Sigla'),\n",
    "        F.col('Produto'),\n",
    "        F.col('Unidade de Medida')\n",
    "    )\n",
    "    .agg(\n",
    "        F.min(F.col(\"Valor de Venda\")).alias('menor_valor'),\n",
    "        F.max(F.col(\"Valor de Venda\")).alias('maior_valor')\n",
    "    )\n",
    "    .withColumn(\n",
    "        \"diferenca\",\n",
    "        F.col('maior_valor') - F.col('menor_valor')\n",
    "    )\n",
    "    .orderBy('diferenca', ascending=False)\n",
    ")"
   ]
  },
  {
   "cell_type": "code",
   "execution_count": 27,
   "id": "c7c61e77-d462-4b7c-87a5-9af398618f2e",
   "metadata": {},
   "outputs": [
    {
     "name": "stdout",
     "output_type": "stream",
     "text": [
      "+--------------+------------------+-----------------+-----------+-----------+---------+\n",
      "|Estado - Sigla|           Produto|Unidade de Medida|menor_valor|maior_valor|diferenca|\n",
      "+--------------+------------------+-----------------+-----------+-----------+---------+\n",
      "|            SP|GASOLINA ADITIVADA|       R$ / litro|       4.79|       8.69|3.8999996|\n",
      "|            SP|            ETANOL|       R$ / litro|       2.78|       6.19|     3.41|\n",
      "|            SP|          GASOLINA|       R$ / litro|       4.59|       7.59|      3.0|\n",
      "|            PA|            ETANOL|       R$ / litro|       3.85|        6.6|     2.75|\n",
      "|            RS|            ETANOL|       R$ / litro|       3.88|       6.29|2.4099998|\n",
      "|            BA|          GASOLINA|       R$ / litro|       4.69|       6.98|     2.29|\n",
      "|            SC|            ETANOL|       R$ / litro|       3.84|       5.89|     2.05|\n",
      "|            AL|            ETANOL|       R$ / litro|       3.79|        5.8|2.0100002|\n",
      "|            PE|            ETANOL|       R$ / litro|       3.59|       5.59|2.0000002|\n",
      "|            BA|GASOLINA ADITIVADA|       R$ / litro|       5.33|       7.29|     1.96|\n",
      "+--------------+------------------+-----------------+-----------+-----------+---------+\n",
      "only showing top 10 rows\n",
      "\n"
     ]
    }
   ],
   "source": [
    "df_precos_analise.show(10)"
   ]
  }
 ],
 "metadata": {
  "kernelspec": {
   "display_name": "Python 3 (ipykernel)",
   "language": "python",
   "name": "python3"
  },
  "language_info": {
   "codemirror_mode": {
    "name": "ipython",
    "version": 3
   },
   "file_extension": ".py",
   "mimetype": "text/x-python",
   "name": "python",
   "nbconvert_exporter": "python",
   "pygments_lexer": "ipython3",
   "version": "3.12.3"
  }
 },
 "nbformat": 4,
 "nbformat_minor": 5
}
