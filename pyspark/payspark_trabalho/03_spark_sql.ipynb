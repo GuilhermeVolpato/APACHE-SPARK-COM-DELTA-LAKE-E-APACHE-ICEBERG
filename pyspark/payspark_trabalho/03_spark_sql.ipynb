{
 "cells": [
  {
   "cell_type": "code",
   "execution_count": 1,
   "id": "7f6aad3e-1626-47c4-b79c-e36cae685069",
   "metadata": {},
   "outputs": [],
   "source": [
    "from pyspark.sql import SparkSession"
   ]
  },
  {
   "cell_type": "code",
   "execution_count": 5,
   "id": "7dd705c1-53b3-46d2-ab03-d8a116811e3d",
   "metadata": {},
   "outputs": [],
   "source": [
    "spark = ( \n",
    " SparkSession\n",
    " .builder\n",
    "    .master(\"local[*]\")\n",
    " .appName('spark_sql')\n",
    " .getOrCreate()\n",
    ")\n"
   ]
  },
  {
   "cell_type": "code",
   "execution_count": 6,
   "id": "2f7f8242-4390-4665-8043-4b14d21cc543",
   "metadata": {},
   "outputs": [],
   "source": [
    "df = (\n",
    "    spark\n",
    "    .read\n",
    "    .option('delimiter', ';')\n",
    "    .option('header', 'true')\n",
    "    .option('inferSchema', 'true')\n",
    "    .option('enconding', 'ISO-8859-1')\n",
    "    .csv('./dados/precos-gasolina-etanol-10.csv')\n",
    ")\n"
   ]
  },
  {
   "cell_type": "code",
   "execution_count": 17,
   "id": "7e64553d-e4f5-41ce-8e10-0a03097522c8",
   "metadata": {
    "scrolled": true
   },
   "outputs": [
    {
     "name": "stdout",
     "output_type": "stream",
     "text": [
      "root\n",
      " |-- Regiao - Sigla: string (nullable = true)\n",
      " |-- Estado - Sigla: string (nullable = true)\n",
      " |-- Municipio: string (nullable = true)\n",
      " |-- Revenda: string (nullable = true)\n",
      " |-- CNPJ da Revenda: string (nullable = true)\n",
      " |-- Nome da Rua: string (nullable = true)\n",
      " |-- Numero Rua: string (nullable = true)\n",
      " |-- Complemento: string (nullable = true)\n",
      " |-- Bairro: string (nullable = true)\n",
      " |-- Cep: string (nullable = true)\n",
      " |-- Produto: string (nullable = true)\n",
      " |-- Data da Coleta: string (nullable = true)\n",
      " |-- Valor de Venda: string (nullable = true)\n",
      " |-- Valor de Compra: string (nullable = true)\n",
      " |-- Unidade de Medida: string (nullable = true)\n",
      " |-- Bandeira: string (nullable = true)\n",
      "\n"
     ]
    }
   ],
   "source": [
    "df.printSchema()\n"
   ]
  },
  {
   "cell_type": "code",
   "execution_count": 19,
   "id": "afefd7d6-dbc9-4204-916c-2cdf06d96340",
   "metadata": {},
   "outputs": [],
   "source": [
    "df.createOrReplaceTempView('combustiveis')"
   ]
  },
  {
   "cell_type": "code",
   "execution_count": 28,
   "id": "68df09a0-73f8-41cd-b4b0-b03ee8265156",
   "metadata": {},
   "outputs": [
    {
     "name": "stdout",
     "output_type": "stream",
     "text": [
      "+--------------+------------------+--------------+-----------------+\n",
      "|Estado - Sigla|           Produto|Valor de Venda|Unidade de Medida|\n",
      "+--------------+------------------+--------------+-----------------+\n",
      "|            AL|          GASOLINA|          6,08|       R$ / litro|\n",
      "|            AL|GASOLINA ADITIVADA|          6,08|       R$ / litro|\n",
      "|            AL|            ETANOL|          4,78|       R$ / litro|\n",
      "|            AL|          GASOLINA|          5,79|       R$ / litro|\n",
      "|            AL|            ETANOL|          4,29|       R$ / litro|\n",
      "+--------------+------------------+--------------+-----------------+\n",
      "only showing top 5 rows\n",
      "\n"
     ]
    }
   ],
   "source": [
    "spark.sql(\"\"\"\n",
    "    select `Estado - Sigla`, `Produto`,`Valor de Venda`, `Unidade de Medida`from combustiveis \n",
    "\"\"\").show(5)\n"
   ]
  },
  {
   "cell_type": "code",
   "execution_count": 29,
   "id": "31daee1d-fe6c-4d1c-aebe-fa5c32dc2ad9",
   "metadata": {},
   "outputs": [
    {
     "name": "stdout",
     "output_type": "stream",
     "text": [
      "+--------------+--------------+---------+-------+---------------+-----------+----------+-----------+------+---+-------+--------------+--------------+---------------+-----------------+--------+\n",
      "|Regiao - Sigla|Estado - Sigla|Municipio|Revenda|CNPJ da Revenda|Nome da Rua|Numero Rua|Complemento|Bairro|Cep|Produto|Data da Coleta|Valor de Venda|Valor de Compra|Unidade de Medida|Bandeira|\n",
      "+--------------+--------------+---------+-------+---------------+-----------+----------+-----------+------+---+-------+--------------+--------------+---------------+-----------------+--------+\n",
      "+--------------+--------------+---------+-------+---------------+-----------+----------+-----------+------+---+-------+--------------+--------------+---------------+-----------------+--------+\n",
      "\n"
     ]
    }
   ],
   "source": [
    "spark.sql(\"\"\"\n",
    "    select * from combustiveis where `Valor de Compra` IS NOT NULL\n",
    "\"\"\").show()\n"
   ]
  },
  {
   "cell_type": "code",
   "execution_count": 30,
   "id": "40a0e386-0b3e-4576-8c92-ad09d2f77a5f",
   "metadata": {},
   "outputs": [],
   "source": [
    "view_precos = spark.sql(\"\"\"\n",
    "    select \n",
    "        `Estado - Sigla`, \n",
    "        `Produto`, \n",
    "        regexp_replace(`Valor de Venda`, \",\", \".\") as `Valor de Venda`,\n",
    "        `Unidade de Medida`\n",
    "    from combustiveis\n",
    "\"\"\")"
   ]
  },
  {
   "cell_type": "code",
   "execution_count": 33,
   "id": "afe2f5d8-311b-4521-8c3c-268ce0ad7c28",
   "metadata": {},
   "outputs": [
    {
     "name": "stdout",
     "output_type": "stream",
     "text": [
      "+--------------+------------------+--------------+-----------------+\n",
      "|Estado - Sigla|           Produto|Valor de Venda|Unidade de Medida|\n",
      "+--------------+------------------+--------------+-----------------+\n",
      "|            AL|          GASOLINA|          6.08|       R$ / litro|\n",
      "|            AL|GASOLINA ADITIVADA|          6.08|       R$ / litro|\n",
      "|            AL|            ETANOL|          4.78|       R$ / litro|\n",
      "|            AL|          GASOLINA|          5.79|       R$ / litro|\n",
      "|            AL|            ETANOL|          4.29|       R$ / litro|\n",
      "+--------------+------------------+--------------+-----------------+\n",
      "only showing top 5 rows\n",
      "\n"
     ]
    }
   ],
   "source": [
    "view_precos.show(5)"
   ]
  },
  {
   "cell_type": "code",
   "execution_count": 36,
   "id": "1e98ffb8-d3b9-4b28-ab1d-82eb525e7a11",
   "metadata": {},
   "outputs": [
    {
     "name": "stdout",
     "output_type": "stream",
     "text": [
      "+--------------+------------------+-----------------+-----------+-----------+------------------+\n",
      "|Estado - Sigla|           Produto|Unidade de Medida|menor_valor|maior_valor|         diferenca|\n",
      "+--------------+------------------+-----------------+-----------+-----------+------------------+\n",
      "|            SP|GASOLINA ADITIVADA|       R$ / litro|       4.79|       8.69|3.8999999999999995|\n",
      "|            SP|            ETANOL|       R$ / litro|       2.78|       6.19|3.4100000000000006|\n",
      "|            SP|          GASOLINA|       R$ / litro|       4.59|       7.59|               3.0|\n",
      "|            PA|            ETANOL|       R$ / litro|       3.85|        6.6|2.7499999999999996|\n",
      "|            RS|            ETANOL|       R$ / litro|       3.88|       6.29|              2.41|\n",
      "+--------------+------------------+-----------------+-----------+-----------+------------------+\n",
      "only showing top 5 rows\n",
      "\n"
     ]
    }
   ],
   "source": [
    "df_diferenca_precos = spark.sql(\"\"\"\n",
    "    select \n",
    "        `Estado - Sigla`,\n",
    "        `Produto`,\n",
    "        `Unidade de Medida`,\n",
    "        MIN(`Valor de Venda`) as menor_valor,\n",
    "        MAX(`Valor de Venda`) as maior_valor,\n",
    "        MAX(`Valor de Venda`) - MIN(`Valor de Venda`) as diferenca\n",
    "   from view_precos\n",
    "   group by all\n",
    "   order by diferenca DESC\n",
    "\"\"\")\n",
    "df_diferenca_precos.show(5)"
   ]
  },
  {
   "cell_type": "code",
   "execution_count": null,
   "id": "f875be6d-0b33-485c-8ddb-2bbec8f9e159",
   "metadata": {},
   "outputs": [],
   "source": []
  }
 ],
 "metadata": {
  "kernelspec": {
   "display_name": "Python 3 (ipykernel)",
   "language": "python",
   "name": "python3"
  },
  "language_info": {
   "codemirror_mode": {
    "name": "ipython",
    "version": 3
   },
   "file_extension": ".py",
   "mimetype": "text/x-python",
   "name": "python",
   "nbconvert_exporter": "python",
   "pygments_lexer": "ipython3",
   "version": "3.12.3"
  }
 },
 "nbformat": 4,
 "nbformat_minor": 5
}
